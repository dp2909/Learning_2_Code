{
 "cells": [
  {
   "cell_type": "code",
   "execution_count": 1,
   "metadata": {},
   "outputs": [
    {
     "name": "stdout",
     "output_type": "stream",
     "text": [
      "4.56\n",
      "4.08\n"
     ]
    }
   ],
   "source": [
    "def solution(sentence):\n",
    "    count = 0\n",
    "    for char in sentence:\n",
    "        if char == \" \":\n",
    "            count += 1\n",
    "    length = 0       \n",
    "    for char in sentence:\n",
    "        if char not in (',.!\\' ?;:-(){}[]'):\n",
    "            length +=1\n",
    "    return (round(length/(count+1),2))\n",
    "\n",
    "sentence1 = \"Hi all, my name is Tom...I'm originally from Australia.\"\n",
    "sentence2 = \"I need to work very hard to learn more about algorithms in python!\"\n",
    "\n",
    "print(solution(sentence1)) # 4.56, will accept more or less digits\n",
    "print(solution(sentence2)) # 4.08, will accept more or less digits"
   ]
  }
 ],
 "metadata": {
  "kernelspec": {
   "display_name": "Python 3.8.2 64-bit",
   "language": "python",
   "name": "python38264bit3c90a8fc5b6942deae10107fae684b14"
  },
  "language_info": {
   "codemirror_mode": {
    "name": "ipython",
    "version": 3
   },
   "file_extension": ".py",
   "mimetype": "text/x-python",
   "name": "python",
   "nbconvert_exporter": "python",
   "pygments_lexer": "ipython3",
   "version": "3.8.2"
  }
 },
 "nbformat": 4,
 "nbformat_minor": 4
}
