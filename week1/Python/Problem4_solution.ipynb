{
 "cells": [
  {
   "cell_type": "code",
   "execution_count": 6,
   "metadata": {},
   "outputs": [
    {
     "name": "stdout",
     "output_type": "stream",
     "text": [
      "(1, 'l')\n",
      "(2, 'r')\n",
      "(1, 'r')\n",
      "(-1, None)\n"
     ]
    }
   ],
   "source": [
    "# First unique character in a string\n",
    "def solution(string):\n",
    "    freq_map = {}\n",
    "    for char in string:\n",
    "        if char not in freq_map:\n",
    "            freq_map[char] = 1\n",
    "        else:\n",
    "            freq_map[char] += 1\n",
    "    for i in range(len(string)):\n",
    "        if freq_map[string[i]] == 1:\n",
    "            return i,string[i]\n",
    "    \n",
    "    return -1, None\n",
    "        \n",
    "string1='alphabet'\n",
    "string2='barbados'\n",
    "string3='crunchy'\n",
    "string4='baba'\n",
    "print(solution(string1)) # 1, L (can be lowercase, just looks the same as 1)\n",
    "print(solution(string2)) # 2, r\n",
    "print(solution(string3)) # 1, r\n",
    "print(solution(string4)) # -1, None\n",
    "    "
   ]
  }
 ],
 "metadata": {
  "kernelspec": {
   "display_name": "Python 3.8.2 64-bit",
   "language": "python",
   "name": "python38264bit3c90a8fc5b6942deae10107fae684b14"
  },
  "language_info": {
   "codemirror_mode": {
    "name": "ipython",
    "version": 3
   },
   "file_extension": ".py",
   "mimetype": "text/x-python",
   "name": "python",
   "nbconvert_exporter": "python",
   "pygments_lexer": "ipython3",
   "version": "3.8.2"
  }
 },
 "nbformat": 4,
 "nbformat_minor": 4
}
