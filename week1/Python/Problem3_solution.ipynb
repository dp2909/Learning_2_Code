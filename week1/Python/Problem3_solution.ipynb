{
 "cells": [
  {
   "cell_type": "code",
   "execution_count": 1,
   "metadata": {},
   "outputs": [
    {
     "name": "stdout",
     "output_type": "stream",
     "text": [
      "2200\n"
     ]
    }
   ],
   "source": [
    "#  Add Strings\n",
    "def helper(string):\n",
    "    if string == \"\":\n",
    "        return\n",
    "    if string[0] == \"-\":\n",
    "        return\n",
    "    l = len(string)\n",
    "    num = 0\n",
    "    for i in range(len(string)):\n",
    "        x = ord(string[i]) - 48\n",
    "        num += x*(10**(l-i-1))\n",
    "    return num\n",
    "\n",
    "def solution(num1, num2):\n",
    "    total = 0\n",
    "    total = helper(num1) + helper(num2)\n",
    "    return total\n",
    "    \n",
    "    \n",
    "num1, num2 = \"364\", \"1836\"\n",
    "print(solution(num1, num2))"
   ]
  }
 ],
 "metadata": {
  "kernelspec": {
   "display_name": "Python 3.8.2 64-bit",
   "language": "python",
   "name": "python38264bit3c90a8fc5b6942deae10107fae684b14"
  },
  "language_info": {
   "codemirror_mode": {
    "name": "ipython",
    "version": 3
   },
   "file_extension": ".py",
   "mimetype": "text/x-python",
   "name": "python",
   "nbconvert_exporter": "python",
   "pygments_lexer": "ipython3",
   "version": "3.8.2"
  }
 },
 "nbformat": 4,
 "nbformat_minor": 4
}
