{
 "cells": [
  {
   "cell_type": "code",
   "execution_count": 2,
   "metadata": {},
   "outputs": [
    {
     "name": "stdout",
     "output_type": "stream",
     "text": [
      "-155\n",
      "765\n"
     ]
    }
   ],
   "source": [
    "# To Reverse an Integer\n",
    "def solution(num):\n",
    "    l = len(str(num))\n",
    "    rev_num = 0\n",
    "    if num == 0:\n",
    "        return num\n",
    "    if num < 0:\n",
    "        i =2\n",
    "        num *= -1\n",
    "        while num >0:\n",
    "            rev_num += (num%10)*10**(l-i)\n",
    "            i +=1\n",
    "            num //= 10\n",
    "        return (-1* rev_num) \n",
    "    if num > 0:\n",
    "        i = 1\n",
    "        while num > 0:\n",
    "            rev_num += (num%10)*10**(l-i)\n",
    "            i +=1\n",
    "            num //= 10\n",
    "        return rev_num\n",
    "    \n",
    "num1  = -551\n",
    "num2 = 567\n",
    "print(solution(num1))\n",
    "print(solution(num2))"
   ]
  }
 ],
 "metadata": {
  "kernelspec": {
   "display_name": "Python 3.8.2 64-bit",
   "language": "python",
   "name": "python38264bit3c90a8fc5b6942deae10107fae684b14"
  },
  "language_info": {
   "codemirror_mode": {
    "name": "ipython",
    "version": 3
   },
   "file_extension": ".py",
   "mimetype": "text/x-python",
   "name": "python",
   "nbconvert_exporter": "python",
   "pygments_lexer": "ipython3",
   "version": "3.8.2"
  }
 },
 "nbformat": 4,
 "nbformat_minor": 4
}
